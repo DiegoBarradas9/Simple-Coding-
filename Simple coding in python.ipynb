{
 "cells": [
  {
   "cell_type": "code",
   "execution_count": 28,
   "id": "4e939d21",
   "metadata": {},
   "outputs": [
    {
     "name": "stdout",
     "output_type": "stream",
     "text": [
      "what is your name?:diego \n",
      "How old are you?:19 \n",
      "how tall are you?:177.4\n",
      "Hi there,diego \n",
      "you are 19years old\n",
      "you are 177.4 in cm\n"
     ]
    },
    {
     "data": {
      "text/plain": [
       "''"
      ]
     },
     "execution_count": 28,
     "metadata": {},
     "output_type": "execute_result"
    }
   ],
   "source": [
    "name = input (\"what is your name?:\")\n",
    "age = int(input(\"How old are you?:\"))\n",
    "height = float(input(\"how tall are you?:\"))\n",
    "\n",
    "input (\"Hi there,\" + name)\n",
    "input (\"you are \"+ str(age) + \"years old\")\n",
    "input (\"you are \"+ str(height)+ \" in cm\")"
   ]
  },
  {
   "cell_type": "code",
   "execution_count": null,
   "id": "514d67ce",
   "metadata": {},
   "outputs": [],
   "source": []
  }
 ],
 "metadata": {
  "kernelspec": {
   "display_name": "Python 3 (ipykernel)",
   "language": "python",
   "name": "python3"
  },
  "language_info": {
   "codemirror_mode": {
    "name": "ipython",
    "version": 3
   },
   "file_extension": ".py",
   "mimetype": "text/x-python",
   "name": "python",
   "nbconvert_exporter": "python",
   "pygments_lexer": "ipython3",
   "version": "3.9.12"
  }
 },
 "nbformat": 4,
 "nbformat_minor": 5
}
